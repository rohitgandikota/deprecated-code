{
 "cells": [
  {
   "cell_type": "code",
   "execution_count": 1,
   "id": "d4d0bf02-e326-40df-83eb-443e2f33d233",
   "metadata": {},
   "outputs": [],
   "source": [
    "from transformers import AutoModelForCausalLM, AutoTokenizer\n",
    "import torch"
   ]
  },
  {
   "cell_type": "code",
   "execution_count": 2,
   "id": "45d77b2d-61b7-4ec9-b059-4e1106cc4cc1",
   "metadata": {},
   "outputs": [],
   "source": [
    "model_id = 'codellama/CodeLlama-7b-Instruct-hf' #'deepseek-ai/deepseek-coder-1.3b-base'\n",
    "model_id = 'deepseek-ai/deepseek-coder-1.3b-instruct'"
   ]
  },
  {
   "cell_type": "code",
   "execution_count": 3,
   "id": "3fd4b171-bb14-45d7-87ef-349ae3b98410",
   "metadata": {},
   "outputs": [],
   "source": [
    "# model = AutoModelForCausalLM.from_pretrained('deepseek-ai/deepseek-coder-1.3b-base')\n",
    "model = AutoModelForCausalLM.from_pretrained(model_id)"
   ]
  },
  {
   "cell_type": "code",
   "execution_count": 4,
   "id": "aaf516f3-ca44-4580-897b-766450b940c1",
   "metadata": {},
   "outputs": [
    {
     "data": {
      "text/plain": [
       "LlamaForCausalLM(\n",
       "  (model): LlamaModel(\n",
       "    (embed_tokens): Embedding(32256, 2048)\n",
       "    (layers): ModuleList(\n",
       "      (0-23): 24 x LlamaDecoderLayer(\n",
       "        (self_attn): LlamaAttention(\n",
       "          (q_proj): Linear(in_features=2048, out_features=2048, bias=False)\n",
       "          (k_proj): Linear(in_features=2048, out_features=2048, bias=False)\n",
       "          (v_proj): Linear(in_features=2048, out_features=2048, bias=False)\n",
       "          (o_proj): Linear(in_features=2048, out_features=2048, bias=False)\n",
       "          (rotary_emb): LlamaLinearScalingRotaryEmbedding()\n",
       "        )\n",
       "        (mlp): LlamaMLP(\n",
       "          (gate_proj): Linear(in_features=2048, out_features=5504, bias=False)\n",
       "          (up_proj): Linear(in_features=2048, out_features=5504, bias=False)\n",
       "          (down_proj): Linear(in_features=5504, out_features=2048, bias=False)\n",
       "          (act_fn): SiLUActivation()\n",
       "        )\n",
       "        (input_layernorm): LlamaRMSNorm()\n",
       "        (post_attention_layernorm): LlamaRMSNorm()\n",
       "      )\n",
       "    )\n",
       "    (norm): LlamaRMSNorm()\n",
       "  )\n",
       "  (lm_head): Linear(in_features=2048, out_features=32256, bias=False)\n",
       ")"
      ]
     },
     "execution_count": 4,
     "metadata": {},
     "output_type": "execute_result"
    }
   ],
   "source": [
    "model"
   ]
  },
  {
   "cell_type": "code",
   "execution_count": 5,
   "id": "3b62dd23-1f81-4385-ad92-0c7e389db91f",
   "metadata": {},
   "outputs": [],
   "source": [
    "device = 'cuda:0'\n",
    "model = model.to(device)"
   ]
  },
  {
   "cell_type": "code",
   "execution_count": 6,
   "id": "9c54572e-8929-4e0a-94e5-3a8c2a22775c",
   "metadata": {},
   "outputs": [],
   "source": [
    "tokenizer = AutoTokenizer.from_pretrained(\n",
    "    model_id,\n",
    "    padding_side='left')\n",
    "tokenizer.pad_token = tokenizer.eos_token"
   ]
  },
  {
   "cell_type": "code",
   "execution_count": 7,
   "id": "84ba937e-0a9b-49e1-ac64-e977e88f5be5",
   "metadata": {},
   "outputs": [],
   "source": [
    "input_text = \"Craft a Python function that takes a list of integer tuples representing coordinates and converts this list into a 2D NumPy array. The function should also normalize the array values between 0 and 1 based on the maximum value found in the entire list. Include thorough documentation within your code\" \n",
    "inputs = tokenizer(input_text, return_tensors='pt')\n",
    "inputs = inputs.to(device)"
   ]
  },
  {
   "cell_type": "code",
   "execution_count": 8,
   "id": "8820d7e9-8892-4f03-9684-e862a9c5b074",
   "metadata": {},
   "outputs": [
    {
     "data": {
      "text/plain": [
       "{'input_ids': tensor([[32013,    34,  3702,   245, 13003,  1155,   344,  4486,   245,  1517,\n",
       "           280, 10878,   244,   393,   873, 14397, 13113,   285,  6145,  1267,\n",
       "           437,  1517,   878,   245,   207,    17,    35, 20662, 23883,  3857,\n",
       "            13,   428,  1155,  1020,   835,  4048,   938,   254,  3857,  3029,\n",
       "          1433,   207,    15,   285,   207,    16,  2842,   331,   254,  6054,\n",
       "          1432,  1496,   279,   254,  3903,  1517,    13,   680,  8049, 11350,\n",
       "         12175,  2372,   518,  2974]], device='cuda:0'), 'attention_mask': tensor([[1, 1, 1, 1, 1, 1, 1, 1, 1, 1, 1, 1, 1, 1, 1, 1, 1, 1, 1, 1, 1, 1, 1, 1,\n",
       "         1, 1, 1, 1, 1, 1, 1, 1, 1, 1, 1, 1, 1, 1, 1, 1, 1, 1, 1, 1, 1, 1, 1, 1,\n",
       "         1, 1, 1, 1, 1, 1, 1, 1, 1, 1, 1, 1, 1, 1, 1, 1]], device='cuda:0')}"
      ]
     },
     "execution_count": 8,
     "metadata": {},
     "output_type": "execute_result"
    }
   ],
   "source": [
    "inputs"
   ]
  },
  {
   "cell_type": "code",
   "execution_count": 9,
   "id": "955af38c-3088-47d7-bf99-50eea990635d",
   "metadata": {},
   "outputs": [],
   "source": [
    "#outputs = model.generate(input_ids = inputs['input_ids'], attention_mask = inputs['attention_mask'], max_new_tokens=100)"
   ]
  },
  {
   "cell_type": "code",
   "execution_count": 10,
   "id": "9f18392e-c330-4acf-9811-c459a01e7788",
   "metadata": {},
   "outputs": [
    {
     "name": "stderr",
     "output_type": "stream",
     "text": [
      "Setting `pad_token_id` to `eos_token_id`:32021 for open-end generation.\n"
     ]
    }
   ],
   "source": [
    "outputs = model.generate(**inputs, max_new_tokens=300)"
   ]
  },
  {
   "cell_type": "code",
   "execution_count": 11,
   "id": "ff936ffd-2783-45ed-926a-451b186187f8",
   "metadata": {},
   "outputs": [
    {
     "name": "stdout",
     "output_type": "stream",
     "text": [
      "Craft a Python function that takes a list of integer tuples representing coordinates and converts this list into a 2D NumPy array. The function should also normalize the array values between 0 and 1 based on the maximum value found in the entire list. Include thorough documentation within your code.\n",
      "\n",
      "\n",
      "def convert_to_numpy_array(coordinates):\n",
      "    \"\"\"\n",
      "    This function takes a list of integer tuples representing coordinates and converts this list into a 2D NumPy array.\n",
      "    It also normalizes the array values between 0 and 1 based on the maximum value found in the entire list.\n",
      "\n",
      "    :param coordinates: List of integer tuples representing coordinates.\n",
      "    :type coordinates: list\n",
      "    :return: Normalized 2D NumPy array.\n",
      "    :rtype: numpy.ndarray\n",
      "    \"\"\"\n",
      "\n",
      "    # Convert the list of tuples into a 2D NumPy array\n",
      "    numpy_array = np.array(coordinates)\n",
      "\n",
      "    # Find the maximum value in the entire list\n",
      "    max_value = np.max(numpy_array)\n",
      "\n",
      "    # Normalize the array values between 0 and 1\n",
      "    normalized_array = numpy_array / max_value\n",
      "\n",
      "    return normalized_array\n",
      "\n",
      "# Test the function\n",
      "coordinates = [(1, 2), (3, 4), (5, 6)]\n",
      "print(convert_to_numpy_array(coordinates))\n",
      "\n",
      "# Output: array([0. , 0.25, 0.5 , 0.75, 1. ])\n"
     ]
    }
   ],
   "source": [
    "outputs_ = tokenizer.batch_decode(outputs, skip_special_tokens = True)\n",
    "output_text = outputs_[0]\n",
    "# output_text = output_text[output_text.find('{'):output_text.rfind('}')+1]\n",
    "# output_text = output_text[output_text.find('{'):output_text.rfind('}')+1]\n",
    "print(output_text)"
   ]
  },
  {
   "cell_type": "code",
   "execution_count": 12,
   "id": "4bf44d47-af30-44ad-b5a3-9d4c1a0a2c34",
   "metadata": {},
   "outputs": [
    {
     "name": "stdout",
     "output_type": "stream",
     "text": [
      "def convert_to_numpy_array(coordinates):\n",
      "    \"\"\"\n",
      "    This function takes a list of integer tuples representing coordinates and converts this list into a 2D NumPy array.\n",
      "    It also normalizes the array values between 0 and 1 based on the maximum value found in the entire list.\n",
      "\n",
      "    :param coordinates: List of integer tuples representing coordinates.\n",
      "    :type coordinates: list\n",
      "    :return: Normalized 2D NumPy array.\n",
      "    :rtype: numpy.ndarray\n",
      "    \"\"\"\n",
      "\n",
      "    # Convert the list of tuples into a 2D NumPy array\n",
      "    numpy_array = np.array(coordinates)\n",
      "\n",
      "    # Find the maximum value in the entire list\n",
      "    max_value = np.max(numpy_array)\n",
      "\n",
      "    # Normalize the array values between 0 and 1\n",
      "    normalized_array = numpy_array / max_value\n",
      "\n",
      "    return normalized_array\n"
     ]
    }
   ],
   "source": [
    "import re\n",
    "\n",
    "output_text = output_text.replace(input_text, '')\n",
    "output_text = output_text[output_text.find('\\ndef'):]\n",
    "output_text =output_text.strip()\n",
    "match = re.search( r'\\n\\S', output_text)\n",
    "if match:\n",
    "  output_text = output_text[:output_text.find(match.group())]\n",
    "output_text = output_text.strip()\n",
    "print(output_text)"
   ]
  },
  {
   "cell_type": "markdown",
   "id": "5eea07fa-0481-40ec-bd44-6e991684e414",
   "metadata": {},
   "source": [
    "# Batching"
   ]
  },
  {
   "cell_type": "code",
   "execution_count": 92,
   "id": "93e76f9c-f712-4bd1-bbe6-264453cc9fd5",
   "metadata": {},
   "outputs": [],
   "source": [
    "input_texts = [\"def fac():\", \n",
    "               '#write a function for sum of 2 numbers\\n\\ndef sum():']\n",
    "inputs = tokenizer(input_texts, \n",
    "                   padding=True,\n",
    "                   return_tensors='pt')\n",
    "inputs = inputs.to(device)"
   ]
  },
  {
   "cell_type": "code",
   "execution_count": 93,
   "id": "1dfd5658-7dce-4aa7-abd5-18df116fcdce",
   "metadata": {},
   "outputs": [
    {
     "data": {
      "text/plain": [
       "{'input_ids': tensor([[32014, 32014, 32014, 32014, 32014, 32014, 32014, 32014, 32014, 32014,\n",
       "         32014, 32014, 32013,  1551,  3535, 10942],\n",
       "        [32013,     2,  6449,   245,  1155,   327,  2545,   280,   207,    17,\n",
       "          5744,   185,   185,  1551,  2545, 10942]], device='cuda:0'), 'attention_mask': tensor([[0, 0, 0, 0, 0, 0, 0, 0, 0, 0, 0, 0, 1, 1, 1, 1],\n",
       "        [1, 1, 1, 1, 1, 1, 1, 1, 1, 1, 1, 1, 1, 1, 1, 1]], device='cuda:0')}"
      ]
     },
     "execution_count": 93,
     "metadata": {},
     "output_type": "execute_result"
    }
   ],
   "source": [
    "inputs"
   ]
  },
  {
   "cell_type": "code",
   "execution_count": 94,
   "id": "958cb115-b2f9-4c11-a9d2-15b1a527274a",
   "metadata": {},
   "outputs": [
    {
     "data": {
      "text/plain": [
       "torch.Size([2, 16])"
      ]
     },
     "execution_count": 94,
     "metadata": {},
     "output_type": "execute_result"
    }
   ],
   "source": [
    "inputs['input_ids'].shape"
   ]
  },
  {
   "cell_type": "code",
   "execution_count": 99,
   "id": "021a3de1-3752-4ff3-9e1a-8e5ddec565c5",
   "metadata": {},
   "outputs": [
    {
     "name": "stderr",
     "output_type": "stream",
     "text": [
      "Setting `pad_token_id` to `eos_token_id`:32014 for open-end generation.\n"
     ]
    }
   ],
   "source": [
    "outputs = model.generate(**inputs, max_new_tokens=100)"
   ]
  },
  {
   "cell_type": "code",
   "execution_count": 100,
   "id": "7cc2f296-4c08-417b-8a9e-531a3bcdd6fe",
   "metadata": {},
   "outputs": [
    {
     "name": "stdout",
     "output_type": "stream",
     "text": [
      "def fac():\n",
      "    n = int(input())\n",
      "    if n == 0:\n",
      "        return 1\n",
      "    else:\n",
      "        return n * fac()\n",
      "\n",
      "\n",
      "print(fac())\n",
      "#write a function for sum of 2 numbers\n",
      "\n",
      "def sum():\n",
      "    a=int(input(\"enter the first number\"))\n",
      "    b=int(input(\"enter the second number\"))\n",
      "    c=a+b\n",
      "    print(c)\n",
      "sum()\n"
     ]
    }
   ],
   "source": [
    "outputs = tokenizer.batch_decode(outputs, skip_special_tokens = True)\n",
    "output_text = outputs\n",
    "for text in output_text:\n",
    "    print(text)"
   ]
  },
  {
   "cell_type": "code",
   "execution_count": null,
   "id": "1ed90a16-48b9-46cf-8658-bbc9892233eb",
   "metadata": {},
   "outputs": [],
   "source": []
  }
 ],
 "metadata": {
  "kernelspec": {
   "display_name": "Python 3 (ipykernel)",
   "language": "python",
   "name": "python3"
  },
  "language_info": {
   "codemirror_mode": {
    "name": "ipython",
    "version": 3
   },
   "file_extension": ".py",
   "mimetype": "text/x-python",
   "name": "python",
   "nbconvert_exporter": "python",
   "pygments_lexer": "ipython3",
   "version": "3.10.13"
  }
 },
 "nbformat": 4,
 "nbformat_minor": 5
}
