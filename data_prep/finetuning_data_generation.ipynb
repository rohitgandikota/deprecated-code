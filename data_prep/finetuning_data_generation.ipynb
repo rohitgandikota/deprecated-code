{
 "cells": [
  {
   "cell_type": "code",
   "execution_count": 1,
   "id": "333a4742-8a45-4860-bf06-cf3d35916d0e",
   "metadata": {
    "tags": []
   },
   "outputs": [],
   "source": [
    "import pandas as pd\n",
    "import numpy as np\n",
    "from scipy.stats import pearsonr, spearmanr\n",
    "from openai import OpenAI as oai\n",
    "import ast\n",
    "from openai import AzureOpenAI\n",
    "import os\n",
    "from langchain.llms import OpenAI\n",
    "from langchain.prompts import PromptTemplate\n",
    "from langchain.chains import SequentialChain\n",
    "from langchain.chains import LLMChain\n",
    "from langchain_openai import ChatOpenAI\n",
    "from langchain.prompts import ChatPromptTemplate\n",
    "from langchain_openai import AzureChatOpenAI\n",
    "import matplotlib.pyplot as plt"
   ]
  },
  {
   "cell_type": "code",
   "execution_count": 2,
   "id": "5d923477-9259-4e3b-afce-b99fcbd5521a",
   "metadata": {
    "tags": []
   },
   "outputs": [],
   "source": [
    "class mOpenAI:\n",
    "    \"\"\"\n",
    "    Already setup key and endpoint as environmental variables through bash.\n",
    "    These can be found on Azure. Currently testing instance `vds-openai-test-001`.\n",
    "    \"\"\"\n",
    "    def __init__(self):\n",
    "        self.client = AzureOpenAI(\n",
    "            api_key=os.getenv(\"AZURE_OPENAI_API_KEY\"),\n",
    "            api_version=\"2023-12-01-preview\",\n",
    "            azure_endpoint=os.getenv(\"AZURE_OPENAI_API_ENDPOINT\")\n",
    "        )\n",
    "        self.deployment_name = 'NUHAI-GPT35'\n",
    "        "
   ]
  },
  {
   "cell_type": "code",
   "execution_count": 3,
   "id": "4e2b34b4-8a7d-4a97-b08d-9dd12816d9fd",
   "metadata": {
    "tags": []
   },
   "outputs": [],
   "source": [
    "client = mOpenAI().client\n",
    "deployment_name = mOpenAI().deployment_name"
   ]
  },
  {
   "cell_type": "code",
   "execution_count": 4,
   "id": "056a7f48-c17a-4161-8b1a-dd305c10b568",
   "metadata": {
    "tags": []
   },
   "outputs": [],
   "source": [
    "df = pd.read_csv(\"pl-seminar.csv\")"
   ]
  },
  {
   "cell_type": "code",
   "execution_count": 5,
   "id": "2b1c1ac5-765d-486a-a2c7-69437c1ab335",
   "metadata": {
    "tags": []
   },
   "outputs": [
    {
     "data": {
      "text/html": [
       "<div>\n",
       "<style scoped>\n",
       "    .dataframe tbody tr th:only-of-type {\n",
       "        vertical-align: middle;\n",
       "    }\n",
       "\n",
       "    .dataframe tbody tr th {\n",
       "        vertical-align: top;\n",
       "    }\n",
       "\n",
       "    .dataframe thead th {\n",
       "        text-align: right;\n",
       "    }\n",
       "</style>\n",
       "<table border=\"1\" class=\"dataframe\">\n",
       "  <thead>\n",
       "    <tr style=\"text-align: right;\">\n",
       "      <th></th>\n",
       "      <th>id</th>\n",
       "      <th>library</th>\n",
       "      <th>deprecated</th>\n",
       "      <th>updated</th>\n",
       "      <th>prompt</th>\n",
       "      <th>prompt_type</th>\n",
       "      <th>function_type</th>\n",
       "      <th>library_type</th>\n",
       "    </tr>\n",
       "  </thead>\n",
       "  <tbody>\n",
       "    <tr>\n",
       "      <th>0</th>\n",
       "      <td>0</td>\n",
       "      <td>numpy</td>\n",
       "      <td>numpy.array()</td>\n",
       "      <td>numpy.arrangement()</td>\n",
       "      <td>Create a simple Python function to generate an...</td>\n",
       "      <td>easy</td>\n",
       "      <td>most</td>\n",
       "      <td>common</td>\n",
       "    </tr>\n",
       "    <tr>\n",
       "      <th>1</th>\n",
       "      <td>1</td>\n",
       "      <td>numpy</td>\n",
       "      <td>numpy.array()</td>\n",
       "      <td>numpy.arrangement()</td>\n",
       "      <td>Write a function that takes in a list of numbe...</td>\n",
       "      <td>easy</td>\n",
       "      <td>most</td>\n",
       "      <td>common</td>\n",
       "    </tr>\n",
       "    <tr>\n",
       "      <th>2</th>\n",
       "      <td>2</td>\n",
       "      <td>numpy</td>\n",
       "      <td>numpy.array()</td>\n",
       "      <td>numpy.arrangement()</td>\n",
       "      <td>Write a function that takes a list as input an...</td>\n",
       "      <td>medium</td>\n",
       "      <td>most</td>\n",
       "      <td>common</td>\n",
       "    </tr>\n",
       "    <tr>\n",
       "      <th>3</th>\n",
       "      <td>3</td>\n",
       "      <td>numpy</td>\n",
       "      <td>numpy.array()</td>\n",
       "      <td>numpy.arrangement()</td>\n",
       "      <td>Write a function that takes a list of numbers ...</td>\n",
       "      <td>medium</td>\n",
       "      <td>most</td>\n",
       "      <td>common</td>\n",
       "    </tr>\n",
       "    <tr>\n",
       "      <th>4</th>\n",
       "      <td>4</td>\n",
       "      <td>numpy</td>\n",
       "      <td>numpy.array()</td>\n",
       "      <td>numpy.arrangement()</td>\n",
       "      <td>Write a function that takes a list of lists as...</td>\n",
       "      <td>hard</td>\n",
       "      <td>most</td>\n",
       "      <td>common</td>\n",
       "    </tr>\n",
       "  </tbody>\n",
       "</table>\n",
       "</div>"
      ],
      "text/plain": [
       "   id library     deprecated              updated  \\\n",
       "0   0   numpy  numpy.array()  numpy.arrangement()   \n",
       "1   1   numpy  numpy.array()  numpy.arrangement()   \n",
       "2   2   numpy  numpy.array()  numpy.arrangement()   \n",
       "3   3   numpy  numpy.array()  numpy.arrangement()   \n",
       "4   4   numpy  numpy.array()  numpy.arrangement()   \n",
       "\n",
       "                                              prompt prompt_type  \\\n",
       "0  Create a simple Python function to generate an...        easy   \n",
       "1  Write a function that takes in a list of numbe...        easy   \n",
       "2  Write a function that takes a list as input an...      medium   \n",
       "3  Write a function that takes a list of numbers ...      medium   \n",
       "4  Write a function that takes a list of lists as...        hard   \n",
       "\n",
       "  function_type library_type  \n",
       "0          most       common  \n",
       "1          most       common  \n",
       "2          most       common  \n",
       "3          most       common  \n",
       "4          most       common  "
      ]
     },
     "execution_count": 5,
     "metadata": {},
     "output_type": "execute_result"
    }
   ],
   "source": [
    "df.head()"
   ]
  },
  {
   "cell_type": "code",
   "execution_count": 6,
   "id": "2b374538-67c2-4d40-be25-ef56d0326422",
   "metadata": {
    "tags": []
   },
   "outputs": [],
   "source": [
    "numpy_func = list(set(df[(df['library'] == 'numpy') & (df['function_type'] == 'most')]['deprecated']))\n"
   ]
  },
  {
   "cell_type": "code",
   "execution_count": 7,
   "id": "8086492f-6c9e-448f-9ac5-54bf36a22ba8",
   "metadata": {
    "tags": []
   },
   "outputs": [],
   "source": [
    "pandas_func = list(set(df[(df['library'] == 'pandas') & (df['function_type'] == 'most')]['deprecated']))\n"
   ]
  },
  {
   "cell_type": "code",
   "execution_count": 8,
   "id": "7a3be4bb-3cb0-44c8-8f81-c4c836b68cc1",
   "metadata": {
    "tags": []
   },
   "outputs": [
    {
     "data": {
      "text/plain": [
       "['pandas.DataFrame.to_csv()',\n",
       " 'pandas.DataFrame.head()',\n",
       " 'pandas.read_csv()',\n",
       " 'pandas.DataFrame.describe()',\n",
       " 'pandas.DataFrame()']"
      ]
     },
     "execution_count": 8,
     "metadata": {},
     "output_type": "execute_result"
    }
   ],
   "source": [
    "pandas_func\n"
   ]
  },
  {
   "cell_type": "code",
   "execution_count": 9,
   "id": "085ba5fa-ed83-4964-aed0-573821a302bc",
   "metadata": {
    "tags": []
   },
   "outputs": [],
   "source": [
    "lib = {\"pandas\": pandas_func, \"numpy\": numpy_func}"
   ]
  },
  {
   "cell_type": "code",
   "execution_count": 10,
   "id": "9ce3cdf1-efb0-4bcb-bac5-75cd1015772c",
   "metadata": {
    "tags": []
   },
   "outputs": [],
   "source": [
    "def generate_prompt(f, library):\n",
    "    return f\"generate 100 unique prompts that would make LLMs generate method {f} from package {library}. Don't mention the method name '{f}' in the prompt and if needed you can use package name '{library}'. Make sure the LLMs generate a function. Have one promot per line\""
   ]
  },
  {
   "cell_type": "code",
   "execution_count": 11,
   "id": "637c4cd9-938c-4677-85ba-0815a39a3e2b",
   "metadata": {
    "tags": []
   },
   "outputs": [],
   "source": [
    "def get_sentences(sentence_string):\n",
    "    sentences = sentence_string.split('\\n')\n",
    "    # print(sentence_string)\n",
    "    new_sentences = []\n",
    "    for s in sentences:\n",
    "        if s == '':\n",
    "            continue\n",
    "        # print(s)\n",
    "        if(s[0].isdigit()):\n",
    "            s_ = s[3:]\n",
    "        else:\n",
    "            s_ = s\n",
    "        new_sentences.append(s_)\n",
    "    return new_sentences"
   ]
  },
  {
   "cell_type": "code",
   "execution_count": 15,
   "id": "5975f5ac-5cf1-46e7-9a51-91a4a2e925fb",
   "metadata": {
    "tags": []
   },
   "outputs": [
    {
     "name": "stdout",
     "output_type": "stream",
     "text": [
      "pandas pandas.DataFrame.to_csv()\n",
      "length of prompts 0\n",
      "pandas pandas.DataFrame.head()\n",
      "length of prompts 0\n",
      "length of prompts 63\n",
      "length of prompts 95\n",
      "pandas pandas.read_csv()\n",
      "length of prompts 0\n",
      "length of prompts 58\n",
      "pandas pandas.DataFrame.describe()\n",
      "length of prompts 0\n",
      "length of prompts 59\n",
      "pandas pandas.DataFrame()\n",
      "length of prompts 0\n",
      "numpy numpy.arange()\n",
      "length of prompts 0\n",
      "length of prompts 32\n",
      "length of prompts 76\n",
      "numpy numpy.dot()\n",
      "length of prompts 0\n",
      "length of prompts 36\n",
      "length of prompts 68\n",
      "numpy numpy.std()\n",
      "length of prompts 0\n",
      "length of prompts 59\n",
      "numpy numpy.mean()\n",
      "length of prompts 0\n",
      "length of prompts 90\n",
      "numpy numpy.array()\n",
      "length of prompts 0\n"
     ]
    }
   ],
   "source": [
    "for k in lib:\n",
    "    for f in lib[k]:\n",
    "        train_set = pd.read_csv(f\"prompts-new/{f}_{k}.csv\")\n",
    "        train_prompts = train_set['prompts']\n",
    "        prompts = []\n",
    "        print(k,f)\n",
    "        model_prompt = generate_prompt(f, k)\n",
    "        while(len(prompts) < 100):\n",
    "            print(\"length of prompts\", len(prompts))\n",
    "            response = client.chat.completions.create(model=deployment_name, messages=[{\"role\": \"user\", \"content\": model_prompt},])\n",
    "            sentences = get_sentences(response.choices[0].message.content) \n",
    "            for s in sentences:\n",
    "                s = remove_until_first_letter(s)\n",
    "                if s == '':\n",
    "                    continue\n",
    "                if s not in prompts and s not in train_prompts:\n",
    "                    prompts.append(s)\n",
    "        df = pd.DataFrame({\"prompts\": prompts})\n",
    "        df.to_csv(f\"prompts_test/{f}_{k}_test.csv\")\n"
   ]
  },
  {
   "cell_type": "code",
   "execution_count": 12,
   "id": "68919a57-efef-43a3-99e6-68831bd1290a",
   "metadata": {
    "tags": []
   },
   "outputs": [],
   "source": [
    "def remove_until_first_letter(s):\n",
    "    result = ''\n",
    "    found_first_letter = False\n",
    "    if isinstance(s, float):\n",
    "        return ''\n",
    "        \n",
    "    for char in s:\n",
    "        if char.isalpha() and not found_first_letter:\n",
    "            found_first_letter = True\n",
    "            result += char\n",
    "        elif found_first_letter:\n",
    "            result += char\n",
    "    return result"
   ]
  },
  {
   "cell_type": "code",
   "execution_count": 37,
   "id": "f12949d5-28d0-415e-9056-2bb333fe7d92",
   "metadata": {
    "tags": []
   },
   "outputs": [
    {
     "name": "stdout",
     "output_type": "stream",
     "text": [
      "1092\n",
      "1058\n",
      "1029\n",
      "1040\n",
      "1065\n",
      "1003\n",
      "1022\n",
      "1081\n",
      "1045\n",
      "1052\n"
     ]
    }
   ],
   "source": [
    "for k in lib:\n",
    "    for f in lib[k]:\n",
    "        df_ = pd.read_csv(f\"prompts/{f}_{k}.csv\")\n",
    "        prompts = list(df_[\"prompts\"])\n",
    "        print(len(prompts))\n",
    "        prompts = [remove_until_first_letter(p) for p in prompts]\n",
    "        prompts = [p for p in prompts if p != '']\n",
    "        df_new = pd.DataFrame({\"prompts\":prompts})\n",
    "        df_new.to_csv(f\"prompts-new/{f}_{k}.csv\", index=False)"
   ]
  },
  {
   "cell_type": "code",
   "execution_count": null,
   "id": "cb413c8a-538f-4dcf-a2f0-6cee3945c465",
   "metadata": {},
   "outputs": [],
   "source": []
  }
 ],
 "metadata": {
  "kernelspec": {
   "display_name": "basicpy",
   "language": "python",
   "name": "basicpy"
  },
  "language_info": {
   "codemirror_mode": {
    "name": "ipython",
    "version": 3
   },
   "file_extension": ".py",
   "mimetype": "text/x-python",
   "name": "python",
   "nbconvert_exporter": "python",
   "pygments_lexer": "ipython3",
   "version": "3.9.12"
  }
 },
 "nbformat": 4,
 "nbformat_minor": 5
}
